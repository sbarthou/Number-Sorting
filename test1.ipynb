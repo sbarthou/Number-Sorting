{
 "cells": [
  {
   "cell_type": "code",
   "execution_count": 2,
   "metadata": {},
   "outputs": [],
   "source": [
    "import numpy as np\n",
    "import matplotlib.pyplot as plt"
   ]
  },
  {
   "cell_type": "code",
   "execution_count": 31,
   "metadata": {},
   "outputs": [],
   "source": [
    "num = [7, 4, 3, 1, 8, 9, 2, 0, 6, 5]\n",
    "snum = np.zeros(len(num))"
   ]
  },
  {
   "cell_type": "code",
   "execution_count": 32,
   "metadata": {},
   "outputs": [
    {
     "name": "stdout",
     "output_type": "stream",
     "text": [
      "m = 0\n",
      "for 1 in range(1, 10):\n",
      "    n = 1\n",
      "for 2 in range(1, 10):\n",
      "    n = 2\n",
      "for 3 in range(1, 10):\n",
      "    n = 3\n",
      "for 4 in range(1, 10):\n",
      "    n = 4\n",
      "    if num[0] < num[4] and num[4] not in snum:\n",
      "        snum[0] = num[4]\n",
      "        m += 1 (1)\n",
      "[8. 0. 0. 0. 0. 0. 0. 0. 0. 0.]\n",
      "\n",
      "for 5 in range(5, 10):\n",
      "    if num[0] < num[5]:\n",
      "        snum[1] = num[5]\n",
      "        m += 1 (2)\n",
      "[8. 9. 0. 0. 0. 0. 0. 0. 0. 0.]\n"
     ]
    }
   ],
   "source": [
    "m = 0\n",
    "print('m = 0')\n",
    "for i in range(1, len(num)):\n",
    "    print(f'for {i} in range(1, {len(num)}):')\n",
    "    n = i   # nímino del range\n",
    "    print(f'    n = {i}')\n",
    "    \n",
    "    if num[0] < num[i] and num[i] not in snum:\n",
    "        print(f'    if num[0] < num[{i}] and num[{i}] not in snum:')\n",
    "        snum[m] = num[i]\n",
    "        print(f'        snum[{m}] = num[{i}]')\n",
    "        m += 1   # indice cambio snum\n",
    "        print(f'        m += {1} ({m})')\n",
    "        break\n",
    "        print(f'        break')\n",
    "\n",
    "print(snum)\n",
    "        \n",
    "print(f'')\n",
    "        \n",
    "for i in range(n+1, len(num)):\n",
    "    print(f'for {i} in range({n+1}, {len(num)}):')\n",
    "    \n",
    "    if num[0] < num[i]:\n",
    "        print(f'    if num[0] < num[{i}]:')\n",
    "        snum[m] = num[i]\n",
    "        print(f'        snum[{m}] = num[{i}]')\n",
    "        m += 1   # indice cambio snum\n",
    "        print(f'        m += {1} ({m})')\n",
    "        break   \n",
    "        print(f'        break')\n",
    "        \n",
    "print(snum)"
   ]
  },
  {
   "cell_type": "code",
   "execution_count": null,
   "metadata": {},
   "outputs": [],
   "source": [
    "for i in range(1, len(num)):\n",
    "    print(f'for {i} in range(1, {len(num)}):')\n",
    "    n = i   # nímino del range\n",
    "    print(f'    n = {i}')\n",
    "    \n",
    "    if num[0] < num[i] and num[i] not in snum:\n",
    "        print(f'    if num[0] < num[{i}] and num[{i}] not in snum:')\n",
    "        snum[m] = num[i]\n",
    "        print(f'        snum[{m}] = num[{i}]')\n",
    "        m += 1   # indice cambio snum\n",
    "        print(f'        m += {1} = {m+1}')\n",
    "        break\n",
    "        print(f'        break')\n",
    "\n",
    "print(snum)\n",
    "        \n",
    "print(f'')\n",
    "        \n",
    "for i in range(n+1, len(num)):\n",
    "    print(f'for {i} in range({n+1}, {len(num)}):')\n",
    "    \n",
    "    if num[0] < num[i]:\n",
    "        print(f'    if num[0] < num[{i}]:')\n",
    "        snum[m] = num[i]\n",
    "        print(f'        snum[{m}] = num[{i}]')\n",
    "        m += 1   # indice cambio snum\n",
    "        print(f'        m += {1} = {m+1}')\n",
    "        break   \n",
    "        print(f'        break')\n",
    "        \n",
    "print(snum)"
   ]
  }
 ],
 "metadata": {
  "kernelspec": {
   "display_name": "base",
   "language": "python",
   "name": "python3"
  },
  "language_info": {
   "codemirror_mode": {
    "name": "ipython",
    "version": 3
   },
   "file_extension": ".py",
   "mimetype": "text/x-python",
   "name": "python",
   "nbconvert_exporter": "python",
   "pygments_lexer": "ipython3",
   "version": "3.10.8"
  },
  "orig_nbformat": 4
 },
 "nbformat": 4,
 "nbformat_minor": 2
}
